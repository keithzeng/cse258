{
 "cells": [
  {
   "cell_type": "code",
   "execution_count": 35,
   "metadata": {},
   "outputs": [],
   "source": [
    "import gzip\n",
    "import numpy as np\n",
    "import urllib\n",
    "import matplotlib.pyplot as plt\n",
    "import random\n",
    "import datetime\n",
    "import pandas as pd\n",
    "import surprise\n",
    "from tqdm import tqdm_notebook\n",
    "from surprise import Dataset, Reader, accuracy, SVD, BaselineOnly\n",
    "from collections import defaultdict, Counter\n",
    "from surprise.model_selection import train_test_split"
   ]
  },
  {
   "cell_type": "code",
   "execution_count": 2,
   "metadata": {},
   "outputs": [
    {
     "data": {
      "application/vnd.jupyter.widget-view+json": {
       "model_id": "8ff28e1a0b0e4becb40a7693b19cf985",
       "version_major": 2,
       "version_minor": 0
      },
      "text/plain": [
       "HBox(children=(IntProgress(value=0, max=1689188), HTML(value='')))"
      ]
     },
     "metadata": {},
     "output_type": "display_data"
    },
    {
     "name": "stdout",
     "output_type": "stream",
     "text": [
      "\n"
     ]
    }
   ],
   "source": [
    "def readGz(f):\n",
    "  for l in tqdm_notebook(gzip.open(f), total=1689188):\n",
    "    yield eval(l)\n",
    "data = list(readGz(\"reviews_Electronics_5.json.gz\"))"
   ]
  },
  {
   "cell_type": "code",
   "execution_count": 3,
   "metadata": {},
   "outputs": [],
   "source": [
    "total = 1689188\n",
    "train_length = 800000\n",
    "train_data = pd.DataFrame(data[:train_length])\n",
    "test_data = pd.DataFrame(data[train_length:])\n",
    "\n",
    "reader = Reader(rating_scale=(1, 5))\n",
    "test_dataset = Dataset.load_from_df(test_data[['reviewerID', 'asin', 'overall']], reader)\n",
    "_, testset = train_test_split(test_dataset, test_size=len(test_data)-1)\n",
    "test_dataset = Dataset.load_from_df(test_data[['reviewerID', 'asin', 'overall']], reader)"
   ]
  },
  {
   "cell_type": "code",
   "execution_count": 4,
   "metadata": {},
   "outputs": [
    {
     "data": {
      "text/plain": [
       "<surprise.prediction_algorithms.matrix_factorization.SVD at 0x7fe0011e7c50>"
      ]
     },
     "execution_count": 4,
     "metadata": {},
     "output_type": "execute_result"
    }
   ],
   "source": [
    "# using SVD algorithm to predict the rating.\n",
    "# r^ui=μ+bu+bi+qTipu\n",
    "# https://surprise.readthedocs.io/en/stable/matrix_factorization.html\n",
    "trainset = train_dataset.build_full_trainset()\n",
    "algo = surprise.prediction_algorithms.matrix_factorization.SVD()\n",
    "algo.fit(trainset)"
   ]
  },
  {
   "cell_type": "code",
   "execution_count": 31,
   "metadata": {},
   "outputs": [],
   "source": [
    "predictions = algo.test(testset)"
   ]
  },
  {
   "cell_type": "code",
   "execution_count": 34,
   "metadata": {},
   "outputs": [
    {
     "name": "stdout",
     "output_type": "stream",
     "text": [
      "RMSE: 1.1401\n",
      "the rmse in train set is:  1.1400902133448116\n"
     ]
    }
   ],
   "source": [
    "print(\"the rmse for algorithm SVD in test set is: \", accuracy.rmse(predictions))"
   ]
  },
  {
   "cell_type": "code",
   "execution_count": 36,
   "metadata": {},
   "outputs": [
    {
     "name": "stdout",
     "output_type": "stream",
     "text": [
      "Estimating biases using als...\n",
      "RMSE: 1.1441\n",
      "the rmse for algorithm base_line in test set is:  1.1441399018872118\n"
     ]
    }
   ],
   "source": [
    "# r^ui=bui=μ+bu+bi\n",
    "# the baseline in surprise.\n",
    "# I thought the rmse should be the same as the baseline algo written by us.\n",
    "# but it don't.maybe caused by parameters?\n",
    "base_algo = BaselineOnly()\n",
    "base_algo.fit(trainset)\n",
    "base_predictions = base_algo.test(testset)\n",
    "print(\"the rmse for algorithm base_line in test set is: \", accuracy.rmse(base_predictions))"
   ]
  },
  {
   "cell_type": "code",
   "execution_count": null,
   "metadata": {},
   "outputs": [],
   "source": [
    "\n",
    "\n",
    "\n",
    "\n"
   ]
  },
  {
   "cell_type": "code",
   "execution_count": null,
   "metadata": {},
   "outputs": [],
   "source": []
  }
 ],
 "metadata": {
  "kernelspec": {
   "display_name": "Python 3",
   "language": "python",
   "name": "python3"
  },
  "language_info": {
   "codemirror_mode": {
    "name": "ipython",
    "version": 3
   },
   "file_extension": ".py",
   "mimetype": "text/x-python",
   "name": "python",
   "nbconvert_exporter": "python",
   "pygments_lexer": "ipython3",
   "version": "3.6.5"
  }
 },
 "nbformat": 4,
 "nbformat_minor": 2
}
