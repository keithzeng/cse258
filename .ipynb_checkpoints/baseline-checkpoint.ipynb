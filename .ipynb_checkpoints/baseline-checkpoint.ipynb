{
 "cells": [
  {
   "cell_type": "code",
   "execution_count": 1,
   "metadata": {},
   "outputs": [],
   "source": [
    "import gzip\n",
    "import numpy\n",
    "import urllib\n",
    "import scipy.optimize\n",
    "import random\n",
    "from collections import defaultdict"
   ]
  },
  {
   "cell_type": "code",
   "execution_count": 2,
   "metadata": {},
   "outputs": [],
   "source": [
    "def readGz(f):\n",
    "  for l in gzip.open(f):\n",
    "    yield eval(l)\n",
    "data = list(readGz(\"reviews_Electronics_5.json.gz\"))"
   ]
  },
  {
   "cell_type": "code",
   "execution_count": 3,
   "metadata": {},
   "outputs": [
    {
     "data": {
      "text/plain": [
       "{'reviewerID': 'AO94DHGC771SJ',\n",
       " 'asin': '0528881469',\n",
       " 'reviewerName': 'amazdnu',\n",
       " 'helpful': [0, 0],\n",
       " 'reviewText': 'We got this GPS for my husband who is an (OTR) over the road trucker.  Very Impressed with the shipping time, it arrived a few days earlier than expected...  within a week of use however it started freezing up... could of just been a glitch in that unit.  Worked great when it worked!  Will work great for the normal person as well but does have the \"trucker\" option. (the big truck routes - tells you when a scale is coming up ect...)  Love the bigger screen, the ease of use, the ease of putting addresses into memory.  Nothing really bad to say about the unit with the exception of it freezing which is probably one in a million and that\\'s just my luck.  I contacted the seller and within minutes of my email I received a email back with instructions for an exchange! VERY impressed all the way around!',\n",
       " 'overall': 5.0,\n",
       " 'summary': 'Gotta have GPS!',\n",
       " 'unixReviewTime': 1370131200,\n",
       " 'reviewTime': '06 2, 2013'}"
      ]
     },
     "execution_count": 3,
     "metadata": {},
     "output_type": "execute_result"
    }
   ],
   "source": [
    "data[0]"
   ]
  },
  {
   "cell_type": "code",
   "execution_count": 4,
   "metadata": {},
   "outputs": [
    {
     "data": {
      "text/plain": [
       "1689188"
      ]
     },
     "execution_count": 4,
     "metadata": {},
     "output_type": "execute_result"
    }
   ],
   "source": [
    "len(data)"
   ]
  },
  {
   "cell_type": "code",
   "execution_count": 5,
   "metadata": {},
   "outputs": [],
   "source": [
    "train_data = data[:840000]\n",
    "validation_data = data[840000:]"
   ]
  },
  {
   "cell_type": "code",
   "execution_count": 7,
   "metadata": {},
   "outputs": [],
   "source": [
    "# Encode itemID and reviewerID\n",
    "reviewerID_str = list(set([elmt['reviewerID'] for elmt in train_data]))\n",
    "itemID_str = list(set([elmt['asin'] for elmt in train_data])) \n",
    "number_of_reviewers = len(reviewerID_str)\n",
    "number_of_itemID = len(itemID_str)\n",
    "reviewerIDs = dict(zip(reviewerID_str,range(number_of_reviewers))) \n",
    "itemIDs = dict(zip(itemID_str, range(number_of_itemID)))"
   ]
  },
  {
   "cell_type": "code",
   "execution_count": 10,
   "metadata": {},
   "outputs": [],
   "source": [
    "R = numpy.zeros((number_of_reviewers,number_of_itemID))\n",
    "reviewer_to_item = defaultdict(list)\n",
    "item_to_reviewer = defaultdict(list)\n",
    "\n",
    "for elmt in train_data:\n",
    "    reviewerID = reviewerIDs[elmt['reviewerID']]\n",
    "    itemID = itemIDs[elmt['asin']]\n",
    "    R[reviewerID][itemID] = elmt['overall']\n",
    "    reviewer_to_item[reviewerID].append(itemID)\n",
    "    item_to_reviewer[itemID].append(reviewerID)\n",
    "\n",
    "def compute_MSE(predictions,y):\n",
    "    return numpy.dot((predictions-y),(predictions-y).T)/float(len(y))\n",
    "\n",
    "def predict(elmt,beta_u, beta_i, alpha):\n",
    "    try:\n",
    "        reviewerID = reviewerIDs[elmt['reviewerID']]\n",
    "        itemID = itemIDs[elmt['asin']]\n",
    "        return alpha+beta_u[reviewerID]+beta_i[itemID]\n",
    "    except:\n",
    "        return alpha\n",
    "    \n",
    "def gradient_descent(x_train,beta_u,beta_i,alpha,lam):\n",
    "    i = 0\n",
    "    while i<2:\n",
    "        i+=1\n",
    "        for j in range(len(x_train)):\n",
    "            reviewerID,itemID = x_train[j]\n",
    "            reviewer_items = reviewer_to_item[reviewerID]\n",
    "            beta_u[reviewerID] = (R[reviewerID,reviewer_items].sum()-alpha*len(reviewer_items)-beta_i[reviewer_items].sum())/(lam+len(reviewer_items))\n",
    "            item_reviewers = item_to_reviewer[itemID]\n",
    "            beta_i[itemID] = (R[item_reviewers,itemID].sum()-alpha*len(item_reviewers)-beta_u[item_reviewers].sum())/(lam+len(item_reviewers))\n",
    "    return alpha, beta_i, beta_u\n",
    "\n",
    "def features(elmt):\n",
    "    reviewerID = elmt['reviewerID']\n",
    "    itemID = elmt['asin']\n",
    "    return [reviewerIDs[reviewerID],itemIDs[itemID]]\n",
    "    "
   ]
  },
  {
   "cell_type": "code",
   "execution_count": 12,
   "metadata": {},
   "outputs": [
    {
     "name": "stdout",
     "output_type": "stream",
     "text": [
      "1.3544263622533448\n"
     ]
    }
   ],
   "source": [
    "X = numpy.array([features(elmt) for elmt in train_data])\n",
    "y = numpy.array([elmt['overall'] for elmt in train_data])\n",
    "y_validation = numpy.array([elmt['overall'] for elmt in validation_data])\n",
    "beta_u = numpy.random.random(number_of_reviewers)\n",
    "beta_i = numpy.random.random(number_of_itemID)\n",
    "alpha = numpy.mean(y)\n",
    "alpha,beta_i,beta_u = gradient_descent(X,beta_u,beta_i,alpha,1)\n",
    "predictions = [predict(elmt,beta_u,beta_i,alpha) for elmt in validation_data]\n",
    "MSE = compute_MSE(predictions,y_validation)\n",
    "print(MSE)\n"
   ]
  },
  {
   "cell_type": "code",
   "execution_count": null,
   "metadata": {},
   "outputs": [],
   "source": []
  }
 ],
 "metadata": {
  "kernelspec": {
   "display_name": "Python 3",
   "language": "python",
   "name": "python3"
  },
  "language_info": {
   "codemirror_mode": {
    "name": "ipython",
    "version": 3
   },
   "file_extension": ".py",
   "mimetype": "text/x-python",
   "name": "python",
   "nbconvert_exporter": "python",
   "pygments_lexer": "ipython3",
   "version": "3.7.0"
  }
 },
 "nbformat": 4,
 "nbformat_minor": 2
}
