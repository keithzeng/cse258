{
 "cells": [
  {
   "cell_type": "code",
   "execution_count": 1,
   "metadata": {},
   "outputs": [],
   "source": [
    "import gzip\n",
    "import numpy\n",
    "import urllib\n",
    "import scipy.optimize\n",
    "import random\n",
    "from collections import defaultdict\n",
    "import matplotlib.pyplot as plt\n",
    "\n",
    "try:\n",
    "    from tqdm import tqdm_notebook\n",
    "except:\n",
    "    tqdm_notebook = lambda x: x # if not this package, just do nothing."
   ]
  },
  {
   "cell_type": "code",
   "execution_count": 2,
   "metadata": {},
   "outputs": [
    {
     "data": {
      "application/vnd.jupyter.widget-view+json": {
       "model_id": "81d4f8ace2f34df8a5daed4a82fc4477",
       "version_major": 2,
       "version_minor": 0
      },
      "text/plain": [
       "HBox(children=(IntProgress(value=1, bar_style='info', max=1), HTML(value='')))"
      ]
     },
     "metadata": {},
     "output_type": "display_data"
    },
    {
     "name": "stdout",
     "output_type": "stream",
     "text": [
      "\n"
     ]
    }
   ],
   "source": [
    "def readGz(f):\n",
    "    for l in tqdm_notebook(gzip.open(f)):\n",
    "        yield eval(l)\n",
    "\n",
    "data = list(readGz(\"reviews_Electronics_5.json.gz\"))"
   ]
  },
  {
   "cell_type": "code",
   "execution_count": 3,
   "metadata": {},
   "outputs": [
    {
     "data": {
      "text/plain": [
       "{'reviewerID': 'AO94DHGC771SJ',\n",
       " 'asin': '0528881469',\n",
       " 'reviewerName': 'amazdnu',\n",
       " 'helpful': [0, 0],\n",
       " 'reviewText': 'We got this GPS for my husband who is an (OTR) over the road trucker.  Very Impressed with the shipping time, it arrived a few days earlier than expected...  within a week of use however it started freezing up... could of just been a glitch in that unit.  Worked great when it worked!  Will work great for the normal person as well but does have the \"trucker\" option. (the big truck routes - tells you when a scale is coming up ect...)  Love the bigger screen, the ease of use, the ease of putting addresses into memory.  Nothing really bad to say about the unit with the exception of it freezing which is probably one in a million and that\\'s just my luck.  I contacted the seller and within minutes of my email I received a email back with instructions for an exchange! VERY impressed all the way around!',\n",
       " 'overall': 5.0,\n",
       " 'summary': 'Gotta have GPS!',\n",
       " 'unixReviewTime': 1370131200,\n",
       " 'reviewTime': '06 2, 2013'}"
      ]
     },
     "execution_count": 3,
     "metadata": {},
     "output_type": "execute_result"
    }
   ],
   "source": [
    "data[0]"
   ]
  },
  {
   "cell_type": "code",
   "execution_count": 4,
   "metadata": {},
   "outputs": [
    {
     "data": {
      "text/plain": [
       "1689188"
      ]
     },
     "execution_count": 4,
     "metadata": {},
     "output_type": "execute_result"
    }
   ],
   "source": [
    "len(data)"
   ]
  },
  {
   "cell_type": "code",
   "execution_count": 5,
   "metadata": {},
   "outputs": [],
   "source": [
    "random.seed(42)\n",
    "random.shuffle(data)\n",
    "train_length = 840000\n",
    "train_data = data[:train_length]\n",
    "validation_data = data[train_length:]"
   ]
  },
  {
   "cell_type": "code",
   "execution_count": 6,
   "metadata": {},
   "outputs": [],
   "source": [
    "# Encode itemID and reviewerID\n",
    "reviewerID_str = list(set([elmt['reviewerID'] for elmt in train_data]))\n",
    "itemID_str = list(set([elmt['asin'] for elmt in train_data])) \n",
    "number_of_reviewers = len(reviewerID_str)\n",
    "number_of_itemID = len(itemID_str)\n",
    "reviewerIDs = dict(zip(reviewerID_str,range(number_of_reviewers))) \n",
    "itemIDs = dict(zip(itemID_str, range(number_of_itemID)))"
   ]
  },
  {
   "cell_type": "code",
   "execution_count": 7,
   "metadata": {},
   "outputs": [],
   "source": [
    "R = numpy.zeros((number_of_reviewers,number_of_itemID))\n",
    "reviewer_to_item = defaultdict(list)\n",
    "item_to_reviewer = defaultdict(list)\n",
    "\n",
    "for elmt in train_data:\n",
    "    reviewerID = reviewerIDs[elmt['reviewerID']]\n",
    "    itemID = itemIDs[elmt['asin']]\n",
    "    R[reviewerID][itemID] = elmt['overall']\n",
    "    reviewer_to_item[reviewerID].append(itemID)\n",
    "    item_to_reviewer[itemID].append(reviewerID)\n",
    "\n",
    "def compute_MSE(predictions,y):\n",
    "    return numpy.dot((predictions-y),(predictions-y).T)/float(len(y))\n",
    "\n",
    "def predict(elmt,beta_u, beta_i, alpha):\n",
    "    try:\n",
    "        reviewerID = reviewerIDs[elmt['reviewerID']]\n",
    "        itemID = itemIDs[elmt['asin']]\n",
    "        return alpha+beta_u[reviewerID]+beta_i[itemID]\n",
    "    except:\n",
    "        return alpha\n",
    "    \n",
    "def gradient_descent(x_train, beta_u, beta_i, alpha, lam_i=10, lam_u=15, iteration=2, y_validation=None):\n",
    "    MSEs = []\n",
    "    for _ in tqdm_notebook(range(iteration)):\n",
    "        for j in range(len(x_train)):\n",
    "            reviewerID,itemID = x_train[j]\n",
    "            reviewer_items = reviewer_to_item[reviewerID]\n",
    "            beta_u[reviewerID] = (R[reviewerID,reviewer_items].sum()-alpha*len(reviewer_items)-beta_i[reviewer_items].sum())/(lam_u+len(reviewer_items))\n",
    "            item_reviewers = item_to_reviewer[itemID]\n",
    "            beta_i[itemID] = (R[item_reviewers,itemID].sum()-alpha*len(item_reviewers)-beta_u[item_reviewers].sum())/(lam_i+len(item_reviewers))\n",
    "        \n",
    "        if y_validation is not None:\n",
    "            predictions = [predict(elmt, beta_u, beta_i, alpha) for elmt in validation_data]\n",
    "            MSE = compute_MSE(predictions, y_validation)\n",
    "            MSEs.append(MSE)\n",
    "\n",
    "    if MSEs:\n",
    "        return alpha, beta_i, beta_u, MSEs\n",
    "    return alpha, beta_i, beta_u\n",
    "\n",
    "def features(elmt):\n",
    "    reviewerID = elmt['reviewerID']\n",
    "    itemID = elmt['asin']\n",
    "    return [reviewerIDs[reviewerID],itemIDs[itemID]]\n",
    "    "
   ]
  },
  {
   "cell_type": "code",
   "execution_count": 8,
   "metadata": {},
   "outputs": [
    {
     "data": {
      "application/vnd.jupyter.widget-view+json": {
       "model_id": "152ab7ac44a942e198382507e5d02a4d",
       "version_major": 2,
       "version_minor": 0
      },
      "text/plain": [
       "HBox(children=(IntProgress(value=0, max=2), HTML(value='')))"
      ]
     },
     "metadata": {},
     "output_type": "display_data"
    },
    {
     "name": "stdout",
     "output_type": "stream",
     "text": [
      "\n",
      "1.3086326423573709\n"
     ]
    }
   ],
   "source": [
    "X = numpy.array([features(elmt) for elmt in train_data])\n",
    "y = numpy.array([elmt['overall'] for elmt in train_data])\n",
    "y_validation = numpy.array([elmt['overall'] for elmt in validation_data])\n",
    "beta_u = numpy.random.random(number_of_reviewers)\n",
    "beta_i = numpy.random.random(number_of_itemID)\n",
    "alpha = numpy.mean(y)\n",
    "alpha,beta_i,beta_u = gradient_descent(X,beta_u,beta_i,alpha,lam_i=1,lam_u=1)\n",
    "predictions = [predict(elmt,beta_u,beta_i,alpha) for elmt in validation_data]\n",
    "MSE = compute_MSE(predictions,y_validation)\n",
    "print(MSE)"
   ]
  },
  {
   "cell_type": "code",
   "execution_count": 28,
   "metadata": {},
   "outputs": [
    {
     "data": {
      "application/vnd.jupyter.widget-view+json": {
       "model_id": "b905fb8bb6df4c1d8f6360c2885a896b",
       "version_major": 2,
       "version_minor": 0
      },
      "text/plain": [
       "HBox(children=(IntProgress(value=0, max=15), HTML(value='')))"
      ]
     },
     "metadata": {},
     "output_type": "display_data"
    }
   ],
   "source": [
    "# try different lam_i lam_u\n",
    "alpha,beta_i,beta_u, MSEs = gradient_descent(X,beta_u, beta_i, alpha, lam_i=10, lam_u=1, iteration=15, y_validation=y_validation)"
   ]
  },
  {
   "cell_type": "code",
   "execution_count": 30,
   "metadata": {},
   "outputs": [
    {
     "data": {
      "image/png": "[encoded data removed]",
      "text/plain": [
       "<Figure size 432x288 with 1 Axes>"
      ]
     },
     "metadata": {
      "needs_background": "light"
     },
     "output_type": "display_data"
    }
   ],
   "source": [
    "plt.plot(MSEs[1:15])\n",
    "plt.title(\"the MSE changed with iteration.\")\n",
    "plt.show()"
   ]
  },
  {
   "cell_type": "code",
   "execution_count": 31,
   "metadata": {},
   "outputs": [
    {
     "name": "stdout",
     "output_type": "stream",
     "text": [
      "the mininum mse 1.287107 appear in 4-th iteration\n"
     ]
    }
   ],
   "source": [
    "print(\"the mininum mse %f appear in %d-th iteration\" % (min(MSEs), MSEs.index(min(MSEs))))"
   ]
  },
  {
   "cell_type": "code",
   "execution_count": 32,
   "metadata": {},
   "outputs": [
    {
     "data": {
      "text/plain": [
       "1.3544262931438888"
      ]
     },
     "execution_count": 32,
     "metadata": {},
     "output_type": "execute_result"
    }
   ],
   "source": []
  },
  {
   "cell_type": "code",
   "execution_count": null,
   "metadata": {},
   "outputs": [],
   "source": []
  }
 ],
 "metadata": {
  "kernelspec": {
   "display_name": "Python 3",
   "language": "python",
   "name": "python3"
  },
  "language_info": {
   "codemirror_mode": {
    "name": "ipython",
    "version": 3
   },
   "file_extension": ".py",
   "mimetype": "text/x-python",
   "name": "python",
   "nbconvert_exporter": "python",
   "pygments_lexer": "ipython3",
   "version": "3.6.5"
  }
 },
 "nbformat": 4,
 "nbformat_minor": 2
}
