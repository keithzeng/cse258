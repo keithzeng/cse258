{
 "cells": [
  {
   "cell_type": "code",
   "execution_count": 21,
   "metadata": {},
   "outputs": [],
   "source": [
    "import gzip\n",
    "import numpy\n",
    "import urllib\n",
    "import scipy.optimize\n",
    "import random\n",
    "from collections import defaultdict\n",
    "import matplotlib.pyplot as plt\n",
    "\n",
    "try:\n",
    "    from tqdm import tqdm_notebook\n",
    "except:\n",
    "    tqdm_notebook = lambda x: x # if not this package, just do nothing."
   ]
  },
  {
   "cell_type": "code",
   "execution_count": 2,
   "metadata": {},
   "outputs": [],
   "source": [
    "def readGz(f):\n",
    "    for l in tqdm_notebook(gzip.open(f)):\n",
    "        yield eval(l)\n",
    "\n",
    "            \n",
    "data = list(readGz(\"reviews_Electronics_5.json.gz\"))"
   ]
  },
  {
   "cell_type": "code",
   "execution_count": 3,
   "metadata": {},
   "outputs": [
    {
     "data": {
      "text/plain": [
       "{'reviewerID': 'AO94DHGC771SJ',\n",
       " 'asin': '0528881469',\n",
       " 'reviewerName': 'amazdnu',\n",
       " 'helpful': [0, 0],\n",
       " 'reviewText': 'We got this GPS for my husband who is an (OTR) over the road trucker.  Very Impressed with the shipping time, it arrived a few days earlier than expected...  within a week of use however it started freezing up... could of just been a glitch in that unit.  Worked great when it worked!  Will work great for the normal person as well but does have the \"trucker\" option. (the big truck routes - tells you when a scale is coming up ect...)  Love the bigger screen, the ease of use, the ease of putting addresses into memory.  Nothing really bad to say about the unit with the exception of it freezing which is probably one in a million and that\\'s just my luck.  I contacted the seller and within minutes of my email I received a email back with instructions for an exchange! VERY impressed all the way around!',\n",
       " 'overall': 5.0,\n",
       " 'summary': 'Gotta have GPS!',\n",
       " 'unixReviewTime': 1370131200,\n",
       " 'reviewTime': '06 2, 2013'}"
      ]
     },
     "execution_count": 3,
     "metadata": {},
     "output_type": "execute_result"
    }
   ],
   "source": [
    "data[0]"
   ]
  },
  {
   "cell_type": "code",
   "execution_count": 4,
   "metadata": {},
   "outputs": [
    {
     "data": {
      "text/plain": [
       "1689188"
      ]
     },
     "execution_count": 4,
     "metadata": {},
     "output_type": "execute_result"
    }
   ],
   "source": [
    "len(data)"
   ]
  },
  {
   "cell_type": "code",
   "execution_count": 7,
   "metadata": {},
   "outputs": [],
   "source": [
    "train_data = data[:840000]\n",
    "validation_data = data[840000:]"
   ]
  },
  {
   "cell_type": "code",
   "execution_count": 8,
   "metadata": {},
   "outputs": [],
   "source": [
    "# Encode itemID and reviewerID\n",
    "reviewerID_str = list(set([elmt['reviewerID'] for elmt in train_data]))\n",
    "itemID_str = list(set([elmt['asin'] for elmt in train_data])) \n",
    "number_of_reviewers = len(reviewerID_str)\n",
    "number_of_itemID = len(itemID_str)\n",
    "reviewerIDs = dict(zip(reviewerID_str,range(number_of_reviewers))) \n",
    "itemIDs = dict(zip(itemID_str, range(number_of_itemID)))"
   ]
  },
  {
   "cell_type": "code",
   "execution_count": 19,
   "metadata": {},
   "outputs": [],
   "source": [
    "R = numpy.zeros((number_of_reviewers,number_of_itemID))\n",
    "reviewer_to_item = defaultdict(list)\n",
    "item_to_reviewer = defaultdict(list)\n",
    "\n",
    "for elmt in train_data:\n",
    "    reviewerID = reviewerIDs[elmt['reviewerID']]\n",
    "    itemID = itemIDs[elmt['asin']]\n",
    "    R[reviewerID][itemID] = elmt['overall']\n",
    "    reviewer_to_item[reviewerID].append(itemID)\n",
    "    item_to_reviewer[itemID].append(reviewerID)\n",
    "\n",
    "def compute_MSE(predictions,y):\n",
    "    return numpy.dot((predictions-y),(predictions-y).T)/float(len(y))\n",
    "\n",
    "def predict(elmt,beta_u, beta_i, alpha):\n",
    "    try:\n",
    "        reviewerID = reviewerIDs[elmt['reviewerID']]\n",
    "        itemID = itemIDs[elmt['asin']]\n",
    "        return alpha+beta_u[reviewerID]+beta_i[itemID]\n",
    "    except:\n",
    "        return alpha\n",
    "    \n",
    "def gradient_descent(x_train, beta_u, beta_i, alpha, lam, iteration=2, y_validation=None):\n",
    "    MSEs = []\n",
    "    for _ in tqdm_notebook(range(iteration)):\n",
    "        for j in range(len(x_train)):\n",
    "            reviewerID,itemID = x_train[j]\n",
    "            reviewer_items = reviewer_to_item[reviewerID]\n",
    "            beta_u[reviewerID] = (R[reviewerID,reviewer_items].sum()-alpha*len(reviewer_items)-beta_i[reviewer_items].sum())/(lam+len(reviewer_items))\n",
    "            item_reviewers = item_to_reviewer[itemID]\n",
    "            beta_i[itemID] = (R[item_reviewers,itemID].sum()-alpha*len(item_reviewers)-beta_u[item_reviewers].sum())/(lam+len(item_reviewers))\n",
    "        \n",
    "        if y_validation is not None:\n",
    "            predictions = [predict(elmt, beta_u, beta_i, alpha) for elmt in validation_data]\n",
    "            MSE = compute_MSE(predictions, y_validation)\n",
    "            MSEs.append(MSE)\n",
    "\n",
    "    if MSEs:\n",
    "        return alpha, beta_i, beta_u, MSEs\n",
    "    return alpha, beta_i, beta_u\n",
    "\n",
    "def features(elmt):\n",
    "    reviewerID = elmt['reviewerID']\n",
    "    itemID = elmt['asin']\n",
    "    return [reviewerIDs[reviewerID],itemIDs[itemID]]\n",
    "    "
   ]
  },
  {
   "cell_type": "code",
   "execution_count": 20,
   "metadata": {},
   "outputs": [
    {
     "data": {
      "application/vnd.jupyter.widget-view+json": {
       "model_id": "b20962827bd641dbbffb4da0db185de8",
       "version_major": 2,
       "version_minor": 0
      },
      "text/plain": [
       "HBox(children=(IntProgress(value=0, max=2), HTML(value='')))"
      ]
     },
     "metadata": {},
     "output_type": "display_data"
    },
    {
     "name": "stdout",
     "output_type": "stream",
     "text": [
      "\n",
      "1.3544263733514152\n"
     ]
    }
   ],
   "source": [
    "X = numpy.array([features(elmt) for elmt in train_data])\n",
    "y = numpy.array([elmt['overall'] for elmt in train_data])\n",
    "y_validation = numpy.array([elmt['overall'] for elmt in validation_data])\n",
    "beta_u = numpy.random.random(number_of_reviewers)\n",
    "beta_i = numpy.random.random(number_of_itemID)\n",
    "alpha = numpy.mean(y)\n",
    "alpha,beta_i,beta_u = gradient_descent(X,beta_u,beta_i,alpha,1)\n",
    "predictions = [predict(elmt,beta_u,beta_i,alpha) for elmt in validation_data]\n",
    "MSE = compute_MSE(predictions,y_validation)\n",
    "print(MSE)"
   ]
  },
  {
   "cell_type": "code",
   "execution_count": null,
   "metadata": {},
   "outputs": [],
   "source": [
    "alpha,beta_i,beta_u, MSEs = gradient_descent(X,beta_u,beta_i,alpha,1, 10, y_validation)"
   ]
  },
  {
   "cell_type": "code",
   "execution_count": 33,
   "metadata": {},
   "outputs": [
    {
     "data": {
      "image/png": "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\n",
      "text/plain": [
       "<Figure size 432x288 with 1 Axes>"
      ]
     },
     "metadata": {
      "needs_background": "light"
     },
     "output_type": "display_data"
    }
   ],
   "source": [
    "plt.plot(MSEs[1:15])\n",
    "plt.title(\"the MSE changed with iteration.\")\n",
    "plt.show()"
   ]
  },
  {
   "cell_type": "code",
   "execution_count": 35,
   "metadata": {},
   "outputs": [
    {
     "name": "stdout",
     "output_type": "stream",
     "text": [
      "the mininum mse 1.354426 appear in 3-th iteration\n"
     ]
    }
   ],
   "source": [
    "print(\"the mininum mse %f appear in %d-th iteration\" % (min(MSEs), MSEs.index(min(MSEs))))"
   ]
  },
  {
   "cell_type": "code",
   "execution_count": 32,
   "metadata": {},
   "outputs": [
    {
     "data": {
      "text/plain": [
       "1.3544262931438888"
      ]
     },
     "execution_count": 32,
     "metadata": {},
     "output_type": "execute_result"
    }
   ],
   "source": []
  },
  {
   "cell_type": "code",
   "execution_count": null,
   "metadata": {},
   "outputs": [],
   "source": []
  }
 ],
 "metadata": {
  "kernelspec": {
   "display_name": "Python 3",
   "language": "python",
   "name": "python3"
  },
  "language_info": {
   "codemirror_mode": {
    "name": "ipython",
    "version": 3
   },
   "file_extension": ".py",
   "mimetype": "text/x-python",
   "name": "python",
   "nbconvert_exporter": "python",
   "pygments_lexer": "ipython3",
<<<<<<< HEAD
   "version": "3.7.0"
=======
   "version": "3.6.5"
>>>>>>> 39169081cf2c1d8b7d9fdc179ea70488c271b4cc
  }
 },
 "nbformat": 4,
 "nbformat_minor": 2
}
