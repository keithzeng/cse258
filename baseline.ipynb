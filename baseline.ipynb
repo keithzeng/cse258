{
 "cells": [
  {
   "cell_type": "code",
   "execution_count": 2,
   "metadata": {},
   "outputs": [],
   "source": [
    "import gzip\n",
    "import numpy\n",
    "import urllib\n",
    "import scipy.optimize\n",
    "import random\n",
    "from collections import defaultdict\n",
    "import matplotlib.pyplot as plt\n",
    "\n",
    "try:\n",
    "    from tqdm import tqdm_notebook\n",
    "except:\n",
    "    tqdm_notebook = lambda x: x # if not this package, just do nothing."
   ]
  },
  {
   "cell_type": "code",
   "execution_count": 2,
   "metadata": {},
   "outputs": [
    {
     "data": {
      "application/vnd.jupyter.widget-view+json": {
       "model_id": "81d4f8ace2f34df8a5daed4a82fc4477",
       "version_major": 2,
       "version_minor": 0
      },
      "text/plain": [
       "HBox(children=(IntProgress(value=1, bar_style='info', max=1), HTML(value='')))"
      ]
     },
     "metadata": {},
     "output_type": "display_data"
    },
    {
     "name": "stdout",
     "output_type": "stream",
     "text": [
      "\n"
     ]
    }
   ],
   "source": [
    "def readGz(f):\n",
    "    for l in tqdm_notebook(gzip.open(f)):\n",
    "        yield eval(l)\n",
    "\n",
    "data = list(readGz(\"reviews_Electronics_5.json.gz\"))"
   ]
  },
  {
   "cell_type": "code",
   "execution_count": 3,
   "metadata": {},
   "outputs": [
    {
     "data": {
      "text/plain": [
       "{'reviewerID': 'A2DKVFYCQAICA0',\n",
       " 'asin': 'B005KK41ZK',\n",
       " 'reviewerName': 'S. Shukla',\n",
       " 'helpful': [0, 0],\n",
       " 'reviewText': 'I lost mine at the Zoo..Got this for my Canon T3i and they are perfect fit and tight enough to not fall . No complaints.',\n",
       " 'overall': 5.0,\n",
       " 'summary': 'Perfect!!',\n",
       " 'unixReviewTime': 1372032000,\n",
       " 'reviewTime': '06 24, 2013'}"
      ]
     },
     "execution_count": 3,
     "metadata": {},
     "output_type": "execute_result"
    }
   ],
   "source": [
    "random.shuffle(data)\n",
    "data[0]"
   ]
  },
  {
   "cell_type": "code",
   "execution_count": 4,
   "metadata": {},
   "outputs": [
    {
     "data": {
      "text/plain": [
       "1689188"
      ]
     },
     "execution_count": 4,
     "metadata": {},
     "output_type": "execute_result"
    }
   ],
   "source": [
    "len(data)"
   ]
  },
  {
   "cell_type": "code",
   "execution_count": 5,
   "metadata": {},
   "outputs": [],
   "source": [
    "random.seed(42)\n",
    "random.shuffle(data)\n",
    "train_length = 840000\n",
    "train_data = data[:train_length]\n",
    "validation_data = data[train_length:]"
   ]
  },
  {
   "cell_type": "code",
   "execution_count": 6,
   "metadata": {},
   "outputs": [],
   "source": [
    "# Encode itemID and reviewerID\n",
    "reviewerID_str = list(set([elmt['reviewerID'] for elmt in train_data]))\n",
    "itemID_str = list(set([elmt['asin'] for elmt in train_data])) \n",
    "number_of_reviewers = len(reviewerID_str)\n",
    "number_of_itemID = len(itemID_str)\n",
    "reviewerIDs = dict(zip(reviewerID_str,range(number_of_reviewers))) \n",
    "itemIDs = dict(zip(itemID_str, range(number_of_itemID)))"
   ]
  },
  {
   "cell_type": "code",
   "execution_count": 7,
   "metadata": {},
   "outputs": [],
   "source": [
    "R = numpy.zeros((number_of_reviewers,number_of_itemID))\n",
    "reviewer_to_item = defaultdict(list)\n",
    "item_to_reviewer = defaultdict(list)\n",
    "\n",
    "for elmt in train_data:\n",
    "    reviewerID = reviewerIDs[elmt['reviewerID']]\n",
    "    itemID = itemIDs[elmt['asin']]\n",
    "    R[reviewerID][itemID] = elmt['overall']\n",
    "    reviewer_to_item[reviewerID].append(itemID)\n",
    "    item_to_reviewer[itemID].append(reviewerID)\n",
    "\n",
    "def compute_MSE(predictions,y):\n",
    "    return numpy.dot((predictions-y),(predictions-y).T)/float(len(y))\n",
    "\n",
    "def predict(elmt,beta_u, beta_i, alpha):\n",
    "    try:\n",
    "        reviewerID = reviewerIDs[elmt['reviewerID']]\n",
    "        itemID = itemIDs[elmt['asin']]\n",
    "        return alpha+beta_u[reviewerID]+beta_i[itemID]\n",
    "    except:\n",
    "        return alpha\n",
    "    \n",
    "def gradient_descent(x_train, beta_u, beta_i, alpha, lam_i=10, lam_u=15, iteration=2, y_validation=None):\n",
    "    MSEs = []\n",
    "    for _ in tqdm_notebook(range(iteration)):\n",
    "        for j in range(len(x_train)):\n",
    "            reviewerID,itemID = x_train[j]\n",
    "            reviewer_items = reviewer_to_item[reviewerID]\n",
    "            beta_u[reviewerID] = (R[reviewerID,reviewer_items].sum()-alpha*len(reviewer_items)-beta_i[reviewer_items].sum())/(lam_u+len(reviewer_items))\n",
    "            item_reviewers = item_to_reviewer[itemID]\n",
    "            beta_i[itemID] = (R[item_reviewers,itemID].sum()-alpha*len(item_reviewers)-beta_u[item_reviewers].sum())/(lam_i+len(item_reviewers))\n",
    "        \n",
    "        if y_validation is not None:\n",
    "            predictions = [predict(elmt, beta_u, beta_i, alpha) for elmt in validation_data]\n",
    "            MSE = compute_MSE(predictions, y_validation)\n",
    "            MSEs.append(MSE)\n",
    "\n",
    "    if MSEs:\n",
    "        return alpha, beta_i, beta_u, MSEs\n",
    "    return alpha, beta_i, beta_u\n",
    "\n",
    "def features(elmt):\n",
    "    reviewerID = elmt['reviewerID']\n",
    "    itemID = elmt['asin']\n",
    "    return [reviewerIDs[reviewerID],itemIDs[itemID]]\n",
    "    "
   ]
  },
  {
   "cell_type": "code",
   "execution_count": 10,
   "metadata": {},
   "outputs": [
    {
     "data": {
      "application/vnd.jupyter.widget-view+json": {
       "model_id": "152ab7ac44a942e198382507e5d02a4d",
       "version_major": 2,
       "version_minor": 0
      },
      "text/plain": [
       "HBox(children=(IntProgress(value=0, max=2), HTML(value='')))"
      ]
     },
     "metadata": {},
     "output_type": "display_data"
    },
    {
     "name": "stdout",
     "output_type": "stream",
     "text": [
      "1.3086326423573709\n"
     ]
    }
   ],
   "source": [
    "lambdas = [0.001,0.01,0.1,1,10,100,1000]\n",
    "for lam in lambdas:\n",
    "    X = numpy.array([features(elmt) for elmt in train_data])\n",
    "    y = numpy.array([elmt['overall'] for elmt in train_data])\n",
    "    y_validation = numpy.array([elmt['overall'] for elmt in validation_data])\n",
    "    beta_u = numpy.random.random(number_of_reviewers)\n",
    "    beta_i = numpy.random.random(number_of_itemID)\n",
    "    alpha = numpy.mean(y)\n",
    "    alpha,beta_i,beta_u = gradient_descent(X,beta_u,beta_i,alpha,lam)\n",
    "    predictions = [predict(elmt,beta_u,beta_i,alpha) for elmt in validation_data]\n",
    "    MSE = compute_MSE(predictions,y_validation)\n",
    "    print(\"MSE:\"+str(MSE)+\"lambda:\"+str(lam))\n"
   ]
  },
  {
   "cell_type": "code",
   "execution_count": 13,
   "metadata": {},
   "outputs": [
    {
     "name": "stdout",
     "output_type": "stream",
     "text": [
      "MSE:1.3671307097915748lambda:1\n",
      "MSE:1.2956892716700414lambda:2\n",
      "MSE:1.2715656226823173lambda:3\n",
      "MSE:1.2623323720521862lambda:4\n",
      "MSE:1.2592184120839185lambda:5\n",
      "MSE:1.2589663203075694lambda:6\n",
      "MSE:1.2601598564822964lambda:7\n",
      "MSE:1.2621011285699895lambda:8\n",
      "MSE:1.264424385527434lambda:9\n",
      "MSE:1.2669267754772175lambda:10\n",
      "MSE:1.2694929602940235lambda:11\n",
      "MSE:1.2720561144301543lambda:12\n",
      "MSE:1.2745772598105lambda:13\n",
      "MSE:1.2770334935651797lambda:14\n",
      "MSE:1.279412947190621lambda:15\n",
      "MSE:1.2817095770310525lambda:16\n",
      "MSE:1.2839214982567675lambda:17\n",
      "MSE:1.2860490412489956lambda:18\n",
      "MSE:1.2880940228200795lambda:19\n",
      "MSE:1.2900592451908743lambda:20\n"
     ]
    }
   ],
   "source": [
    "lambdas = [1,2,3,4,5,6,7,8,9,10,11,12,13,14,15,16,17,18,19,20]\n",
    "MSEs = []\n",
    "for lam in lambdas:\n",
    "    X = numpy.array([features(elmt) for elmt in train_data])\n",
    "    y = numpy.array([elmt['overall'] for elmt in train_data])\n",
    "    y_validation = numpy.array([elmt['overall'] for elmt in validation_data])\n",
    "    beta_u = numpy.random.random(number_of_reviewers)\n",
    "    beta_i = numpy.random.random(number_of_itemID)\n",
    "    alpha = numpy.mean(y)\n",
    "    alpha,beta_i,beta_u = gradient_descent(X,beta_u,beta_i,alpha,lam)\n",
    "    predictions = [predict(elmt,beta_u,beta_i,alpha) for elmt in validation_data]\n",
    "    MSE = compute_MSE(predictions,y_validation)\n",
    "    MSEs.append(MSE)\n",
    "    print(\"MSE:\"+str(MSE)+\"lambda:\"+str(lam))"
   ]
  },
  {
   "cell_type": "code",
   "execution_count": 16,
   "metadata": {},
   "outputs": [
    {
     "data": {
      "image/png": "[encoded data removed]",
      "text/plain": [
       "<Figure size 432x288 with 1 Axes>"
      ]
     },
     "metadata": {
      "needs_background": "light"
     },
     "output_type": "display_data"
    }
   ],
   "source": [
    "plt.plot(MSEs[:20])\n",
    "plt.title(\"the MSE changed with lambda.\")\n",
    "plt.show()"
   ]
  },
  {
   "cell_type": "code",
   "execution_count": 17,
   "metadata": {},
   "outputs": [],
   "source": [
    "X = numpy.array([features(elmt) for elmt in train_data])\n",
    "y = numpy.array([elmt['overall'] for elmt in train_data])\n",
    "test_data = data[1120000:1680000]\n",
    "y_test = numpy.array([elmt['overall'] for elmt in test_data])\n",
    "beta_u = numpy.random.random(number_of_reviewers)\n",
    "beta_i = numpy.random.random(number_of_itemID)\n",
    "alpha = numpy.mean(y)\n",
    "alpha,beta_i,beta_u = gradient_descent(X,beta_u,beta_i,alpha,lam_i=1,lam_u=1)\n",
    "predictions = [predict(elmt,beta_u,beta_i,alpha) for elmt in validation_data]\n",
    "MSE = compute_MSE(predictions,y_validation)\n",
    "print(MSE)"
   ]
  },
  {
   "cell_type": "code",
   "execution_count": 18,
   "metadata": {},
   "outputs": [
    {
     "data": {
      "application/vnd.jupyter.widget-view+json": {
       "model_id": "b905fb8bb6df4c1d8f6360c2885a896b",
       "version_major": 2,
       "version_minor": 0
      },
      "text/plain": [
       "HBox(children=(IntProgress(value=0, max=15), HTML(value='')))"
      ]
     },
     "metadata": {},
     "output_type": "display_data"
    }
   ],
   "source": [
    "# try different lam_i lam_u\n",
    "alpha,beta_i,beta_u, MSEs = gradient_descent(X,beta_u, beta_i, alpha, lam_i=10, lam_u=1, iteration=15, y_validation=y_validation)"
   ]
  },
  {
   "cell_type": "code",
   "execution_count": 30,
   "metadata": {},
   "outputs": [
    {
     "data": {
      "image/png": "[encoded data removed]",
      "text/plain": [
       "<Figure size 432x288 with 1 Axes>"
      ]
     },
     "metadata": {
      "needs_background": "light"
     },
     "output_type": "display_data"
    }
   ],
   "source": [
    "plt.plot(MSEs[1:15])\n",
    "plt.title(\"the MSE changed with iteration.\")\n",
    "plt.show()"
   ]
  },
  {
   "cell_type": "code",
   "execution_count": 31,
   "metadata": {},
   "outputs": [
    {
     "name": "stdout",
     "output_type": "stream",
     "text": [
      "the mininum mse 1.287107 appear in 4-th iteration\n"
     ]
    }
   ],
   "source": [
    "print(\"the mininum mse %f appear in %d-th iteration\" % (min(MSEs), MSEs.index(min(MSEs))))"
   ]
  },
  {
   "cell_type": "code",
   "execution_count": 32,
   "metadata": {},
   "outputs": [
    {
     "data": {
      "text/plain": [
       "1.3544262931438888"
      ]
     },
     "execution_count": 32,
     "metadata": {},
     "output_type": "execute_result"
    }
   ],
   "source": []
  },
  {
   "cell_type": "code",
   "execution_count": null,
   "metadata": {},
   "outputs": [],
   "source": []
  }
 ],
 "metadata": {
  "kernelspec": {
   "display_name": "Python 3",
   "language": "python",
   "name": "python3"
  },
  "language_info": {
   "codemirror_mode": {
    "name": "ipython",
    "version": 3
   },
   "file_extension": ".py",
   "mimetype": "text/x-python",
   "name": "python",
   "nbconvert_exporter": "python",
   "pygments_lexer": "ipython3",
   "version": "3.6.5"
  }
 },
 "nbformat": 4,
 "nbformat_minor": 2
}
