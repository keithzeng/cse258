{
 "cells": [
  {
   "cell_type": "code",
<<<<<<< HEAD
   "execution_count": 15,
=======
   "execution_count": 2,
>>>>>>> 42888701db173892627808e5321f6df4dbdb1d8b
   "metadata": {},
   "outputs": [],
   "source": [
    "import gzip\n",
    "import numpy\n",
    "import urllib\n",
    "import scipy.optimize\n",
    "import random\n",
    "from collections import defaultdict\n",
<<<<<<< HEAD
    "import matplotlib.pyplot as plt"
=======
    "import matplotlib.pyplot as plt\n",
    "\n",
    "try:\n",
    "    from tqdm import tqdm_notebook\n",
    "except:\n",
    "    tqdm_notebook = lambda x: x # if not this package, just do nothing."
>>>>>>> 42888701db173892627808e5321f6df4dbdb1d8b
   ]
  },
  {
   "cell_type": "code",
   "execution_count": 3,
   "metadata": {},
   "outputs": [
    {
     "data": {
      "application/vnd.jupyter.widget-view+json": {
       "model_id": "c2d82399b15049b4b4b96638d819dbe5",
       "version_major": 2,
       "version_minor": 0
      },
      "text/plain": [
       "HBox(children=(IntProgress(value=1, bar_style='info', max=1), HTML(value='')))"
      ]
     },
     "metadata": {},
     "output_type": "display_data"
    },
    {
     "name": "stdout",
     "output_type": "stream",
     "text": [
      "\n"
     ]
    }
   ],
   "source": [
    "def readGz(f):\n",
    "    for l in tqdm_notebook(gzip.open(f)):\n",
    "        yield eval(l)\n",
    "\n",
    "data = list(readGz(\"reviews_Electronics_5.json.gz\"))"
   ]
  },
  {
   "cell_type": "code",
   "execution_count": 4,
   "metadata": {},
   "outputs": [
    {
     "data": {
      "text/plain": [
       "{'reviewerID': 'A2DKVFYCQAICA0',\n",
       " 'asin': 'B005KK41ZK',\n",
       " 'reviewerName': 'S. Shukla',\n",
       " 'helpful': [0, 0],\n",
       " 'reviewText': 'I lost mine at the Zoo..Got this for my Canon T3i and they are perfect fit and tight enough to not fall . No complaints.',\n",
       " 'overall': 5.0,\n",
       " 'summary': 'Perfect!!',\n",
       " 'unixReviewTime': 1372032000,\n",
       " 'reviewTime': '06 24, 2013'}"
      ]
     },
     "execution_count": 4,
     "metadata": {},
     "output_type": "execute_result"
    }
   ],
   "source": [
    "random.shuffle(data)\n",
    "data[0]"
   ]
  },
  {
   "cell_type": "code",
   "execution_count": 5,
   "metadata": {},
   "outputs": [
    {
     "data": {
      "text/plain": [
       "1689188"
      ]
     },
     "execution_count": 5,
     "metadata": {},
     "output_type": "execute_result"
    }
   ],
   "source": [
    "len(data)"
   ]
  },
  {
   "cell_type": "code",
   "execution_count": 6,
   "metadata": {},
   "outputs": [],
   "source": [
    "train_data = data[:560000]\n",
    "validation_data = data[560000:1120000]"
   ]
  },
  {
   "cell_type": "code",
   "execution_count": 6,
   "metadata": {},
   "outputs": [],
   "source": [
    "# Encode itemID and reviewerID\n",
    "reviewerID_str = list(set([elmt['reviewerID'] for elmt in train_data]))\n",
    "itemID_str = list(set([elmt['asin'] for elmt in train_data])) \n",
    "number_of_reviewers = len(reviewerID_str)\n",
    "number_of_itemID = len(itemID_str)\n",
    "reviewerIDs = dict(zip(reviewerID_str,range(number_of_reviewers))) \n",
    "itemIDs = dict(zip(itemID_str, range(number_of_itemID)))"
   ]
  },
  {
   "cell_type": "code",
<<<<<<< HEAD
   "execution_count": 7,
=======
   "execution_count": 8,
>>>>>>> 42888701db173892627808e5321f6df4dbdb1d8b
   "metadata": {},
   "outputs": [],
   "source": [
    "R = numpy.zeros((number_of_reviewers,number_of_itemID))\n",
    "reviewer_to_item = defaultdict(list)\n",
    "item_to_reviewer = defaultdict(list)\n",
    "\n",
    "for elmt in train_data:\n",
    "    reviewerID = reviewerIDs[elmt['reviewerID']]\n",
    "    itemID = itemIDs[elmt['asin']]\n",
    "    R[reviewerID][itemID] = elmt['overall']\n",
    "    reviewer_to_item[reviewerID].append(itemID)\n",
    "    item_to_reviewer[itemID].append(reviewerID)\n",
    "\n",
    "def compute_MSE(predictions,y):\n",
    "    return numpy.dot((predictions-y),(predictions-y).T)/float(len(y))\n",
    "\n",
    "def predict(elmt,beta_u, beta_i, alpha):\n",
    "    try:\n",
    "        reviewerID = reviewerIDs[elmt['reviewerID']]\n",
    "        itemID = itemIDs[elmt['asin']]\n",
    "        return alpha+beta_u[reviewerID]+beta_i[itemID]\n",
    "    except:\n",
    "        return alpha\n",
    "    \n",
    "def gradient_descent(x_train, beta_u, beta_i, alpha, lam_i=10, lam_u=15, iteration=2, y_validation=None):\n",
    "    MSEs = []\n",
    "    for _ in tqdm_notebook(range(iteration)):\n",
    "        for j in range(len(x_train)):\n",
    "            reviewerID,itemID = x_train[j]\n",
    "            reviewer_items = reviewer_to_item[reviewerID]\n",
    "            beta_u[reviewerID] = (R[reviewerID,reviewer_items].sum()-alpha*len(reviewer_items)-beta_i[reviewer_items].sum())/(lam_u+len(reviewer_items))\n",
    "            item_reviewers = item_to_reviewer[itemID]\n",
    "            beta_i[itemID] = (R[item_reviewers,itemID].sum()-alpha*len(item_reviewers)-beta_u[item_reviewers].sum())/(lam_i+len(item_reviewers))\n",
    "        \n",
    "        if y_validation is not None:\n",
    "            predictions = [predict(elmt, beta_u, beta_i, alpha) for elmt in validation_data]\n",
    "            MSE = compute_MSE(predictions, y_validation)\n",
    "            MSEs.append(MSE)\n",
    "\n",
    "    if MSEs:\n",
    "        return alpha, beta_i, beta_u, MSEs\n",
    "    return alpha, beta_i, beta_u\n",
    "\n",
    "def features(elmt):\n",
    "    reviewerID = elmt['reviewerID']\n",
    "    itemID = elmt['asin']\n",
    "    return [reviewerIDs[reviewerID],itemIDs[itemID]]\n",
    "    "
   ]
  },
  {
   "cell_type": "code",
<<<<<<< HEAD
   "execution_count": 9,
=======
   "execution_count": 10,
>>>>>>> 42888701db173892627808e5321f6df4dbdb1d8b
   "metadata": {},
   "outputs": [
    {
     "data": {
      "application/vnd.jupyter.widget-view+json": {
       "model_id": "9dfd06116ec64cf4a62593fcd62deb90",
       "version_major": 2,
       "version_minor": 0
      },
      "text/plain": [
       "HBox(children=(IntProgress(value=0, max=2), HTML(value='')))"
      ]
     },
     "metadata": {},
     "output_type": "display_data"
    },
    {
     "name": "stdout",
     "output_type": "stream",
     "text": [
<<<<<<< HEAD
      "MSE:1.7463254960060948lambda:0.001\n",
      "MSE:1.7369613181646688lambda:0.01\n",
      "MSE:1.6560853066638257lambda:0.1\n",
      "MSE:1.367119889076951lambda:1\n",
      "MSE:1.2669266446968623lambda:10\n",
      "MSE:1.349967535739165lambda:100\n",
      "MSE:1.3953945242708328lambda:1000\n"
=======
      "\n",
      "1.3544263656631608\n"
>>>>>>> 42888701db173892627808e5321f6df4dbdb1d8b
     ]
    }
   ],
   "source": [
    "lambdas = [0.001,0.01,0.1,1,10,100,1000]\n",
    "for lam in lambdas:\n",
    "    X = numpy.array([features(elmt) for elmt in train_data])\n",
    "    y = numpy.array([elmt['overall'] for elmt in train_data])\n",
    "    y_validation = numpy.array([elmt['overall'] for elmt in validation_data])\n",
    "    beta_u = numpy.random.random(number_of_reviewers)\n",
    "    beta_i = numpy.random.random(number_of_itemID)\n",
    "    alpha = numpy.mean(y)\n",
    "    alpha,beta_i,beta_u = gradient_descent(X,beta_u,beta_i,alpha,lam)\n",
    "    predictions = [predict(elmt,beta_u,beta_i,alpha) for elmt in validation_data]\n",
    "    MSE = compute_MSE(predictions,y_validation)\n",
    "    print(\"MSE:\"+str(MSE)+\"lambda:\"+str(lam))\n"
   ]
  },
  {
   "cell_type": "code",
   "execution_count": 13,
   "metadata": {},
   "outputs": [
    {
     "name": "stdout",
     "output_type": "stream",
     "text": [
      "MSE:1.3671307097915748lambda:1\n",
      "MSE:1.2956892716700414lambda:2\n",
      "MSE:1.2715656226823173lambda:3\n",
      "MSE:1.2623323720521862lambda:4\n",
      "MSE:1.2592184120839185lambda:5\n",
      "MSE:1.2589663203075694lambda:6\n",
      "MSE:1.2601598564822964lambda:7\n",
      "MSE:1.2621011285699895lambda:8\n",
      "MSE:1.264424385527434lambda:9\n",
      "MSE:1.2669267754772175lambda:10\n",
      "MSE:1.2694929602940235lambda:11\n",
      "MSE:1.2720561144301543lambda:12\n",
      "MSE:1.2745772598105lambda:13\n",
      "MSE:1.2770334935651797lambda:14\n",
      "MSE:1.279412947190621lambda:15\n",
      "MSE:1.2817095770310525lambda:16\n",
      "MSE:1.2839214982567675lambda:17\n",
      "MSE:1.2860490412489956lambda:18\n",
      "MSE:1.2880940228200795lambda:19\n",
      "MSE:1.2900592451908743lambda:20\n"
     ]
    }
   ],
   "source": [
    "lambdas = [1,2,3,4,5,6,7,8,9,10,11,12,13,14,15,16,17,18,19,20]\n",
    "MSEs = []\n",
    "for lam in lambdas:\n",
    "    X = numpy.array([features(elmt) for elmt in train_data])\n",
    "    y = numpy.array([elmt['overall'] for elmt in train_data])\n",
    "    y_validation = numpy.array([elmt['overall'] for elmt in validation_data])\n",
    "    beta_u = numpy.random.random(number_of_reviewers)\n",
    "    beta_i = numpy.random.random(number_of_itemID)\n",
    "    alpha = numpy.mean(y)\n",
    "    alpha,beta_i,beta_u = gradient_descent(X,beta_u,beta_i,alpha,lam)\n",
    "    predictions = [predict(elmt,beta_u,beta_i,alpha) for elmt in validation_data]\n",
    "    MSE = compute_MSE(predictions,y_validation)\n",
    "    MSEs.append(MSE)\n",
    "    print(\"MSE:\"+str(MSE)+\"lambda:\"+str(lam))"
   ]
  },
  {
   "cell_type": "code",
   "execution_count": 16,
   "metadata": {},
   "outputs": [
    {
     "data": {
      "image/png": "iVBORw0KGgoAAAANSUhEUgAAAX4AAAEICAYAAABYoZ8gAAAABHNCSVQICAgIfAhkiAAAAAlwSFlzAAALEgAACxIB0t1+/AAAADl0RVh0U29mdHdhcmUAbWF0cGxvdGxpYiB2ZXJzaW9uIDMuMC4wLCBodHRwOi8vbWF0cGxvdGxpYi5vcmcvqOYd8AAAIABJREFUeJzt3XmcXGWd7/HPr7eku7N09ZKtO52FbLIlaUIWSSAIg+AwBnCugAgiIi7XGfUl1/HqVZlhZu5lnPXqOAwiIsogogQd0KuMLCGQBLIRtuxrZ+s9naTT6e13/zink6LpLenqru463/fr1a9U1XNO1a9OVb516jnPecrcHRERiY60ZBcgIiIDS8EvIhIxCn4RkYhR8IuIRIyCX0QkYhT8IiIRo+BPIWY22czczDKSXUuimdnDZvbXya6jJ4mo08y+bmYPdtN+u5mtPIP7221mV/alpi7ud6mZlZ/B8mdUt/QfBf8Q1l//ocP7Xhp+iCzvcPvs8PYX4m5bZmYbzazezKrM7DkzmxK23WNmzWZ2LO6vrj9qThXu/rfufiek9oe5JI+CX7pTCSwys4K42z4BbG2/YmbTgEeArwCjgSnAvwKtces87u4j4v7y+r90EemKgn+IMrOfAKXAf4Z70V+Na77FzPaGe9/fiFsnzcy+ZmY7zKzazH5uZvndPEwT8BRwU7h+OnAj8GjcMnOAXe7+Bw8cdfdfuvves3xei83sFTOrM7N9ZnZ7XHPMzJ4xs6NmtsbMzolb71/C5evNbJ2ZLYlruyd8ro+E675lZvPi2svMbEPY9oSZPR7fXWNm14bfaOrC2i6Ma5trZuvDdR8Hhnfz3PaY2UXh5VvCPfnzwuufMrOn4ur9abjaivDfuvB1XhR3f39vZrVmtsvMrunl9p1vZqvC53LQzL5nZllx7W5mnzezbeFzutfMzgmfd324HbM63OfXw/fabjO7Je72AjP7dbjeq8A5Hdbr8jWT/qXgH6Lc/VZgL/An4V7038U1LwZmAlcA3zKz94W3/xlwHXAZMAGoJdg7784jwG3h5Q8CbwIH4trXA7PM7J/M7HIzG3G2z8nMJgG/Bb4LFBF8qGyMW+Qm4C+BGLAd+Ju4ttfC5fOB/wCeMLP4EP4w8DMgD/g18L3wMbOA5cDD4bqPAdfH1TQXeAj4DFAA/DvwazMbFq77FPCTcN0ngI908xRfBJaGly8DdgKXxl1/sZN12tvzwtd5VXh9AbAFKAT+DvihmVk3j92uFfhyuN4igvfI5zss80HgImAh8FXgAeDjwETgfODmuGXHhfdVTPBt8AEzmxm2/SvQCIwH7gj/4vX0mkl/cXf9DdE/YDdwZdz1yYADJXG3vQrcFF5+B7girm080AxkdHLfS4Hy8PI2gg+SnwG3AHcCL8QtuxD4OUHXUCNBiI4I2+4h+OZQF/f3fBfP538Cy7toexh4MO76h4DN3WybWmB2XA3/Fdd2LnAivHwpsB+wuPaVwF+Hl/8NuLfDfW8hCOpLCT4E49d9pX3dTmr6FPDruNfiTuBn4fU9QFlcvT/t8JpmxN3P7cD2uOs54TLjevM+6dD2pfhtHt7PJXHX1wF/EXf9H4B/jnuPtAC5ce0/B74JpIfvrVlxbX8LrOzNa6a//v3THn9qOhR3uQFo3wufBCwPv+bXEYRPKzC2h/v7CfAF4HKCveN3cffV7v5Rdy8ClhAE4jfiFvm5u+fF/V3exeNMBHacxfPCzO42s3fM7Ej43EYT7Il2te7w8IDpBGC/h8kT2hd3eRLwlfZtFt73xHC9ztbd0039LwJLzGw8QTD+HLjEzCaH9W7setX3OPV83L0hvNjjty0zm2FmT5vZITOrJwjjwg6LHY67fKKT6/GPU+vux+Ou7yHYLkVABu/elu/aNr14zaSfKPiHtjOdWnUfcE2HEB7u7vt7WO8nBN0Bv4kLmc4Lcn8NeJKgS+BM7aNDP3BvhH3DXwU+CsQ8OHh8BOhN18dBoLhDN8nEDjX9TYdtluPuj3WxbmlXD+Tu2wk+dP4MWOHu9QQBfhfBnnBbZ6v14jmciX8DNgPT3X0U8HV6t526EjOz3LjrpQTfgioJvg1M7NAG9Pk1kz5S8A9th4GpZ7D8/cDfhH3pmFmRmS3raSV330XQtfGNjm3hwdhPm9mY8Posgv701WdQV7tHgSvN7KNmlhEeHJzTi/VGEoRMJZBhZt8CRvXyMVcRfOv5QviYy4D5ce0/AD5rZgsskGtmf2xmI8N1W4A/N7NMM7uhw7qdeZHg21N7f/4LHa53VAm0cWavc3dGAvXAsfC1+lwC7vMvzSwrDPNrgSfcvZVgB+AeM8sxs3MJjgHE13G2r5n0kYJ/aPvfwP8KuyDu7sXy/0JwYPP3ZnaUIJwX9OaB3H2lux/opKmOIOjfMLNjwP8j6A6KP9h8o717HP+x9g+KDo+xl6Dv/itADUHXx+xelPe78HG3EnQnNPLuLobunlcTcANB/3sdwUHMp4GTYfta4NMEB4NrCQ4q395h3dvDem8kCLvuvEgQeiu6uN6xvgaCg9gvh6/zwt48r27cDXwMOErwofZ4H+/vEMF2OUDwwf1Zd98ctn2BoFvoEMExmh/FrdftaxaOenqrj7VJF+zd3ZMiYmZrgPvd/Uc9LiwyBGmPXyLPzC4zs3FhV88ngAsJ9kZFUpJOAxcJhqr+HMglGFv/p+5+MLklifQfdfWIiESMunpERCJmUHb1FBYW+uTJk5NdhojIkLFu3bqq8CTKHg3K4J88eTJr165NdhkiIkOGmXV31vi7qKtHRCRiFPwiIhGj4BcRiRgFv4hIxCj4RUQiRsEvIhIxCn4RkYhJmeBvbXO+99w2VmytTHYpIiKDWsoEf3qa8cCKnfzXO4d7XlhEJMJSJvgBimM5lNeeSHYZIiKDWkoFf0ksm/0KfhGRbqVU8BfnZbO/7gSaalpEpGspFfwlsWyOnWzhyInmZJciIjJopVzwA+rnFxHpRkoFf3FeDqDgFxHpTkoFf/se//46Bb+ISFdSKvjzcjLJyUrXyB4RkW6kVPCbGcV52ZTXNiS7FBGRQavH4Dezh8yswsze7KJ9mZltMrONZrbWzBbHtZWa2e/N7B0ze9vMJieu9M6VxLLV1SMi0o3e7PE/DFzdTfsfgNnuPge4A3gwru0R4Dvu/j5gPlBxlnX2WnEsWwd3RUS60WPwu/sKoKab9mN++oypXMABzOxcIMPdn41brt/7YEpiORw50czRRo3lFxHpTEL6+M3sejPbDDxDsNcPMAOoM7MnzWyDmX3HzNK7uY+7wq6itZWVZz/DZnGeRvaIiHQnIcHv7svdfRZwHXBveHMGsAS4G7gYmArc3s19PODu89x9XlFR0VnXcmpIp7p7REQ6ldBRPWG30FQzKwTKgY3uvtPdW4CngLJEPl5nijWWX0SkW30OfjObZmYWXi4DhgHVwGtAnpm1775/AHi7r4/Xk8LcYWRlpOkAr4hIFzJ6WsDMHgOWAoVmVg58G8gEcPf7gY8At5lZM3ACuDE82NtqZncDfwg/GNYBP+iXZxEnLc0oydP0zCIiXekx+N395h7a7wPu66LtWeDCsyvt7AVDOnUSl4hIZ1LqzN12OolLRKRrKRn8xXnZVB1rorG5NdmliIgMOqkZ/JqXX0SkSykZ/CWxYF5+dfeIiLxXSgZ/+9m7OsArIvJeKRn8Y0cNJyPNNKRTRKQTKRn86WnG+Lzh6uoREelESgY/EP4gi4JfRKSjlA3+kliOunpERDqRssFfnJfN4aONNLW0JbsUEZFBJWWDvySWjTscPKK9fhGReCkb/DqJS0Skcykb/CV54UlcCn4RkXdJ2eAfN3o4aQblGtIpIvIuKRv8WRlpjB01XGfvioh0kLLBD+H0zOrqERF5l5QOfp3EJSLyXqkd/LFsDtU30tKqsfwiIu1SOvhLYjm0tjmHj55MdikiIoNGSgf/qemZa3SAV0SkXUoHf0l4Epdm6RQROS2lg39Cns7eFRHpKKWDf3hmOkUjh2lIp4hInJQOfgj6+dXVIyJyWuoHfyxbZ++KiMRJ+eAviWVzoK6RtjZPdikiIoNC6gd/XjZNrW1UHtNYfhERiELwx4LpmTWyR0Qk0KvgN7OHzKzCzN7son2ZmW0ys41mttbMFndoH2Vm5Wb2vUQUfSZO/yCL+vlFRKD3e/wPA1d30/4HYLa7zwHuAB7s0H4vsOKMq0uA9rN3NbJHRCTQq+B39xVATTftx9y9/ehpLnDqSKqZXQSMBX7fhzrPWu6wDGI5mRrLLyISSlgfv5ldb2abgWcI9voxszTgH4C7e7H+XWE30drKyspElQW0D+lU8IuIQAKD392Xu/ss4DqCrh2AzwO/cffyXqz/gLvPc/d5RUVFiSoLCH5/V109IiKBjETfobuvMLOpZlYILAKWmNnngRFAlpkdc/evJfpxu1Mcy+aFrRW4O2Y2kA8tIjLoJCT4zWwasMPd3czKgGFAtbvfErfM7cC8gQ59CA7wNja3UXO8iYIRwwb64UVEBpVeBb+ZPQYsBQrNrBz4NpAJ4O73Ax8BbjOzZuAEcGPcwd6ki5+eWcEvIlHXq+B395t7aL8PuK+HZR4mGBY64E6P5T/BhSV5yShBRGTQSPkzd+H02bsa0ikiEpHgH52dychhGTp7V0SEiAQ/BN09GtIpIhKh4C/RSVwiIkCEgr84L1t9/CIiRCj4S2I5HD3ZwpETzckuRUQkqSIT/JqeWUQkEJ3gb5+eWd09IhJxkQn+kriTuEREoiwywZ+fm8XwzDQN6RSRyItM8JsZJbEcdfWISORFJvgh6Ocvr9PBXRGJtkgFf0lMY/lFRCIV/MWxbGobmjl+siXZpYiIJE20gj/v9Lz8IiJRFang1/TMIiKRC36dvSsiEqngLxoxjKz0NMrV1SMiERap4E9LMybkDdfZuyISaZEKfgh/kEXBLyIRFrngL8nL0ageEYm0yAV/cSybyqMnaWxuTXYpIiJJEbngbx/Zc0B7/SISUZEL/vaTuHSAV0SiKnrBH9PZuyISbZEL/nGjhpOeZjqJS0QiK3LBn5GexrhRwzWkU0Qiq8fgN7OHzKzCzN7son2ZmW0ys41mttbMFoe3zzGzVWb2Vth+Y6KLP1slsWx19YhIZPVmj/9h4Opu2v8AzHb3OcAdwIPh7Q3Abe5+Xrj+P5tZXh9qTZjiWLYO7opIZPUY/O6+Aqjppv2Yu3t4NRfw8Pat7r4tvHwAqACK+lxxApTkZXO4vpGmlrZklyIiMuAS0sdvZteb2WbgGYK9/o7t84EsYEc393FX2FW0trKyMhFldakklkObw6Ejjf36OCIig1FCgt/dl7v7LOA64N74NjMbD/wE+KS7d7mL7e4PuPs8d59XVNS/Xwzah3Tq93dFJIoSOqon7BaaamaFAGY2iuBbwDfcfXUiH6sv2s/e1cgeEYmiPge/mU0zMwsvlwHDgGozywKWA4+4+y/6+jiJNH50NmY6e1dEoimjpwXM7DFgKVBoZuXAt4FMAHe/H/gIcJuZNQMngBvd3c3so8ClQIGZ3R7e3e3uvjHhz+IMZWWkMWbkMA3pFJFI6jH43f3mHtrvA+7r5PafAj89+9L6V0ksR2fvikgkRe7M3XbFeTqJS0SiKbLBXxLL5mBdI61t3vPCIiIpJLLBXxzLpqXNOVyvsfwiEi2RDf6SWA6g6ZlFJHoiG/ynf5BFB3hFJFoiH/w6iUtEoiaywZ+dlU7hiCydxCUikRPZ4AcN6RSRaIp08JfEctTVIyKRE+ngL45lU153gjaN5ReRCIl28Odl09TSRtXxk8kuRURkwEQ6+NunZ9YBXhGJkkgHf7Hm5ReRCIp28LeP5dfIHhGJkEgH/8jhmYzOztTZuyISKZEOfgjH8qurR0QiJPLBXxLL1sFdEYmUyAd/cSw4e9ddY/lFJBoiH/wlsRwamlqpa2hOdikiIgMi8sF/enpmdfeISDREPvjbT+LaX6eRPSISDQp+nb0rIhET+eAfnZ1Jbla6gl9EIiPywW9mlMRyFPwiEhmRD344PaRTRCQKFPwE/fz7NW2DiESEgp9gSGd9Ywv1jRrLLyKpT8GPpmcWkWjpVfCb2UNmVmFmb3bRvszMNpnZRjNba2aL49o+YWbbwr9PJKrwRCqJ5QAa0iki0dDbPf6Hgau7af8DMNvd5wB3AA8CmFk+8G1gATAf+LaZxc662n5yal5+9fOLSAT0KvjdfQVQ0037MT89y1ku0H75g8Cz7l7j7rXAs3T/AZIUhSOyGJaRppE9IhIJCevjN7PrzWwz8AzBXj9AMbAvbrHy8LbO1r8r7CZaW1lZmaiyesXMKNb0zCISEQkLfndf7u6zgOuAe89i/QfcfZ67zysqKkpUWb1WnKex/CISDQkf1RN2C001s0JgPzAxrrkkvG3Q0dm7IhIVCQl+M5tmZhZeLgOGAdXA74CrzCwWHtS9Krxt0CmJZVNzvImGppZklyIi0q8yerOQmT0GLAUKzaycYKROJoC73w98BLjNzJqBE8CN4cHeGjO7F3gtvKu/cvcuDxInU0ncWP7pY0cmuRoRkf7Tq+B395t7aL8PuK+LtoeAh868tIF16gdZ6hT8IpLadOZuSGfvikhUKPhDY0YOJzPd2F11PNmliIj0KwV/KD3NuHhyPs++c5jT56KJiKQeBX+c6+cWs6e6gfV7a5NdiohIv1Hwx7nmgvEMz0zjyfWD8lQDEZGEUPDHGTEsg6vOHcfTmw5ysqU12eWIiPQLBX8H15cVc+REM89vHtj5gkREBoqCv4Ml0wopHDGM5RvKk12KiEi/UPB3kJGexodnT+C5zRXUNTQluxwRkYRT8HfihrJimludpzcdTHYpIiIJp+DvxHkTRjF9zAiWb9DoHhFJPQr+TpgZ15cVs25PLXuqdSaviPSf6mMnefbtw/yf327m68vfGJDH7NUkbVF03ZxivvO7LSzfsJ8vXTkj2eWISApoaW1jy+GjrN9bx4Y9tazbW8ue6uC3vjPTjTkT82hrc9LSrF/rUPB3YUJeNgunFLB8w36+eMV0wp8bEBHptbqGJjbsrWPdnlrW763l9X11HG8KzhEqGjmMstI8bllQSllpjPOLRzM8M31A6lLwd+P6smK++otNrN9bx0WTYskuR0QGsbY2Z3vlsSDkw735nZVBV3F6mvG+8SP504tKKJsUo6w0RkksO2k7lAr+blxz/ji++dSbLN9QruAXkXdpbG7l9X11rN1Ty9rdNazbU0t9Y/ALfrGcTC6aFOMjZSVcNCnGhSWjyckaPHE7eCoZhEYOz+Sq84IpHL517XlkZehYuEhU1RxvOhXwr+2u4Y39R2huDWbynT5mBH984XgumpTPRZNiTC7IGdTdwwr+Htwwt5j/fP0Az2+p4IPnjUt2OSIyANydPdUNvLa7hrW7a1m7p4YdYbdNVnoaF5SM5o7FU7g4DPpYblaSKz4zCv4eLJleSOGILJav36/gF0lRLa1tvH2wnld3tQd9LVXHTgIwOjvstrmohIsn53PBAB6E7S8K/h5kpKfxJ7Mn8OjqvRxpaGZ0TmaySxKRPjrZ0sqm8iO8uquGNbtqWLe75tRom4n52SyZXsi8yTEunpzPtKIR/T68cqAp+Hvhhrkl/Ojl3Tz9xgFuWTAp2eWIyBlqaGphw9461uyq4dVd1WzYW8fJljYAZowdwfVlxcyfUsD8yfmMGz08ydX2PwV/L5xfPIppY0awfP1+Bb/IEFDf2My63bWs2VXDml3VvFF+hJY2J83g3Amj+PjCScyfks/Fk/PJH2L984mg4O8FM+P6ucGZvHuqjzOpIDfZJYlInLqGJlbvDEL+1V01vH2wHvfgbNgLS/L49KVTmT8lOBA7ari6axX8vXTdXE3hIDJYHGloZs2ualbvrGHVzmo2HwqCflhGGmWlMf78A9NZMDWfuRNjZGcN7QOx/UHB30vFedksnJqvKRxEkqC+sZnXdtWwakc1q3dV89aB00F/0aQYX75yBovOKeDCktEMy1DQ90TBfwZumFvCV3+pKRxE+tuxky28tquG1TurWbWzmjf3H6HNISsjjbLSPL54xXQWTS1g9sS8IT+0MhkU/GfgmgvG8c1faQoHkUQ70dTKa7treGXH6aBvbXMy0425E2N84QPTWTg1n7LSmII+AXoMfjN7CLgWqHD38ztpvwX4C8CAo8Dn3P31sO3LwJ2AA28An3T3xsSVP7BGDs/kj84dqykcRPqoubWNTeV1vLy9mpXbq9iwt5bmVicjLZia+PNLz2Hh1ALKStVH3x96s8f/MPA94JEu2ncBl7l7rZldAzwALDCzYuDPgXPd/YSZ/Ry4Kby/IeuGsmKe3nRQUziInIG2NmfL4aO8vL2KV3ZUs2ZnNcebWjELfvHujkum8P5phVw8OTaoJjNLVT1uYXdfYWaTu2l/Je7qaqCkw/1nm1kzkAMcOLsyB48l04soyNUUDiI92VvdwMs7qnh5exWrdlRTfbwJgCmFuVw3t5hLphWyaGrBkJvnJhUk+qP1U8BvAdx9v5n9PbAXOAH83t1/39WKZnYXcBdAaWlpgstKnMxwCof/WKMpHETiVR07ySs7qnl5WxUv76iivPYEAGNGDuPSGUW8/5wCLplWyIS87CRXKgkLfjO7nCD4F4fXY8AyYApQBzxhZh939592tr67P0DQTcS8efM8UXX1hxvKinn4FU3hINHW2NzK2t21vLS9kpe2VvH2wXoARg7PYNHUAj69ZCqXTCvgnKIRGv48yCQk+M3sQuBB4Bp3rw5vvhLY5e6V4TJPAu8HOg3+oeSC4tGawkEix93ZfOgoK7dVsWJbJa/uquFkSxuZ6UZZaYz/8cGZXDKtkAuKR5OeYpOapZo+B7+ZlQJPAre6+9a4pr3AQjPLIejquQJY29fHGwzip3DYW91AaUFOsksS6RcV9Y2s3F7FS9uqWLm9isqjwVTF08aM4GMLSrl0ehHzp+STO0wHZIeS3gznfAxYChSaWTnwbSATwN3vB74FFADfD7/Otbj7PHdfY2a/ANYDLcAGwq6cVBA/hcMXr5ye7HJEEuJEUyuv7q7hpa2VrNxexeZDRwHIz81i8bRCFk8vZMn0QsaPVj/9UGbug687fd68eb527eD/cnDTA6s4dKSR5+9eqj5MGZLcna2Hj7FiayUvbq3k1d01NLW0kZWexsVTYiyeVsSS6YWcO35Uys1Jn2rMbJ27z+vNsvp+1gftUzhs2FdHWanO5JWh4UhDMyu3V50K+0P1wTmVM8aO4LaFk1gyo4j5k/N14lQKU/D3wakpHNbvV/DLoNXa5ryx/wgvbqlkxbZKNuytpc2D0TdLphdy2YwiLp1RpO6bCFHw90H7FA7/uekA37z2XE3hIINGxdFGVmwN9upf2lZJbUMzZnBh8Wi+cPk0LptZxOySPDLS9Z6NIgV/H7VP4fDClgqu0pm8kiTNrW2s21PLC1sqWbG18tSY+sIRw7h81hgum1HEkulFkfy1KXkvBX8fnZrCYcN+Bb8MqMP1jby4pZLnt1SwclsVR0+2kJFmXDQpxlevnsml04t0UFY6peDvI03hIAOlpbWNDfvqeH5zBS9sOb1XP27UcP74wvEsnTmGS6YVMFI/LSg9UPAnQPsUDs+8cZCPLRi88wzJ0FN59CQvbg326l/aWkl9YwvpcXv1l88cw6xxIzWcWM6Igj8BLigezTlFuSzfUK7glz5pbXNeL6/jhc0VPL+lkjf2HwGgaOQwPnjeOC6fNYZLphUyOlt79XL2FPwJYGbcUFbCd363hX01DUzM1xQO0nu1x5tYsa2S5zZXsGJrMAInzaCsNMbdV81g6cwx6quXhFLwJ8iyORP4zu+28MOVu7jnw+cluxwZxNyddw4e5fktFTy3ueLUuPqC3CwunzmGpbPGcOn0QvJyNAJH+oeCP0FKYjl8bEEpD7+ym5JYNncumZrskmQQaWhq4eXt1Ty3uYIXtlRw8EhwtuwF4bj6y2eNYXZJnvbqZUAo+BPo3mXnc6Shmb9+5h1ysjLU3x9xe6qP89zmYK9+zc4amlrbyM1KZ8n0Ir585RiWzixizKjhyS5TIkjBn0DpacY/3TiHE82tfOOpN8jJSue6ucXJLksGSFNLG2t31wRhv6WCnZXHAZhamMutiybxgVljuHhyvs7wlqRT8CdYVkYa37+ljE/+6DW+8sTrZGel67d5U1jF0UZe2BwcmF25vYpjJ1vISk9jwdR8bl04ictnjmFyYW6yyxR5F03L3E+OnWzh4w+u4e0D9fzw9nksmV6U7JIkAdranE37j/Dc5gqe31xxarjl2FHD+MCsMVw+MxhuqR8mkYF2JtMyK/j70ZGGZm76wWp2VR3jJ59awMWT85NdkpyF+sZmXtpaxXObK3hxawVVx5owg7kT84KwnxUMt9RJVJJMCv5BpOrYST7676uorD/Jf3x6IReUjE52SdIDd2dH5bFTB2bX7q6lpc0ZNTyDy2aO4QOzirhsxhhNeCaDioJ/kDl45AT/7f5VHD/ZwuOfWcSMsSOTXZJ00Njcyuqd1TwfHpjdV3MCgFnjRnJ52IVTVqppjGXwUvAPQnuqj/Pf7l+FA098ZpEO+A0Cu6uO88KWCl7YWsmqHdWcbGljeGYal5xTGIT9rDEU5+nHSWRoUPAPUtsOH+XGB1aTnZnOE59dxASFyoBqbG5l1c5qXtxSyQtbKthd3QDAlMJcLptRxNKZRSycWsDwTP3koAw9Cv5B7M39R7j5gdUUjRzG459ZRNHIYckuKaW179U/v6WS1TtP79UvmlrA0pnBSVSTCvTtS4Y+Bf8gt25PDR9/8FUmFeTws7sWak6WBOpqr35qYS6XzSxi6cwxLJiSr716STkK/iFg5bYq7nj4Nd43YRSP3rmAERr3fVba2px3DtXz8vYqVm6vZo326iWiFPxDxLNvH+azP13HvEkxHv7kfLKztBfaG/tqGli5vYqV26tYtaOamuNNAEwfM4LF0wu1Vy+RdCbBr93MJPqjc8fyjx+dzZce38jnHl3HA7fO0zwunag53sQrO6p4eXs1L2+vYm9N0H0zdtQwls4sYvG0Qi6ZVshYTXgm0isK/iRbNqeYE03Yz3uqAAAJPklEQVStfO3JN/jizzbw3ZvnRn6s+ImmVl7bXRN231Tx1oHgt2VHDstg4TkF3HHJZBZPL+ScohE6W1bkLCj4B4Gb5pdyvKmVe59+m2u/u5KPlJXw4TkTIrMHW9/YzOv76li/p47VO6tZt6eWptY2MtONstIYX/mjGVwyvZALi0dH/kNRJBHUxz+I/HJdOT9etZtN5Ucwg0VTC7huTjFXXzCOUcNT4zdW29qcnVXHWL+njvV7a1m/t5ZtFcdwBzOYNW4Ui6cVcMm0QuZPyScnS/smIr2R0IO7ZvYQcC1Q4e7nd9J+C/AXgAFHgc+5++thWx7wIHA+4MAd7r6qp6KiGvztdlQe41cbD/CrjfvZU91AVkYaV8waw7I5xVw+q4hhGUPnoOWRE81s3FfHhr21rN9bx8a9tdQ3tgAwangGc0tjlJXGmFuax+yJefoRcZGzlOjgvxQ4BjzSRfC/H3jH3WvN7BrgHndfELb9GHjJ3R80sywgx93reioq6sHfzt3ZuK+OX208wNObDlB1rIlRwzP40AXjWTanmAVT8gfVT/W1tTnbK4+xfk8tG/YGe/TbK0/vzc8cO5K5YciXlcaYWpg7qOoXGcoSPpzTzCYDT3cW/B2WiwFvunuxmY0GNgJT/Qz7kxT879XS2sbK7VX8auMBfvfWIRqaWhk/ejgfnj2BZXOKed/4kQNyoPNkSyvltSfYW93Anurj7KlpCC7XNLCvpoGTLW0A5OVkMndiEPBlk2JcWDKakSnSXSUyGCUz+O8GZrn7nWY2B3gAeBuYDawDvujux7tY9y7gLoDS0tKL9uzZ05v6I6mhqYVn3z7MrzYeYMXWSlranBljR7BsTjHnF48mKz2NrIw0hoV/weV0sjJO356RZl1+UBxpaGZvTQN7ao6zp7o92I+zt7qBg/WNxL9lcrLSKc3PoTQ/h0kFOcwcN4qy0jymFOZqxI3IAEpK8JvZ5cD3gcXuXm1m84DVwCXuvsbM/gWod/dv9vR42uPvvZrjTTyz6QBPbTzAuj21vV7PDLLS2z8Y0k99QNQcb+LIieZ3LVs4IisM9txTAT+pIIfS/FwKR2Qp4EUGgQE/gcvMLiQ4iHuNu1eHN5cD5e6+Jrz+C+BriXg8OS0/N4tbF03m1kWTOVB3goNHTnCypY2mlrZT/56+3Hr6tta2dy13sqWVppY2Rmdnngr1SQU5TMzP0XQSIimmz/+jzawUeBK41d23tt/u7ofMbJ+ZzXT3LcAVBN0+0k8m5GVrqmcR6VGPwW9mjwFLgUIzKwe+DWQCuPv9wLeAAuD74Vf+lrivG38GPBqO6NkJfDLRT0BERM5Mj8Hv7jf30H4ncGcXbRuBXvU5iYjIwND57yIiEaPgFxGJGAW/iEjEKPhFRCJGwS8iEjEKfhGRiBmU8/GbWSVwtpP1FAJVCSwn0VRf36i+vlF9fTOY65vk7kW9WXBQBn9fmNna3s5XkQyqr29UX9+ovr4Z7PX1lrp6REQiRsEvIhIxqRj8DyS7gB6ovr5RfX2j+vpmsNfXKynXxy8iIt1LxT1+ERHphoJfRCRihmzwm9nVZrbFzLab2Xt+2cvMhpnZ42H7mvDnIweqtolm9ryZvW1mb5nZFztZZqmZHTGzjeHftwaqvvDxd5vZG+Fjv+d3Li3wf8Ptt8nMygawtplx22WjmdWb2Zc6LDOg28/MHjKzCjN7M+62fDN71sy2hf/Gulj3E+Ey28zsEwNY33fMbHP4+i03s7wu1u32vdCP9d1jZvvjXsMPdbFut//X+7G+x+Nq221mG7tYt9+3X8K5+5D7A9KBHcBUIAt4HTi3wzKfB+4PL98EPD6A9Y0HysLLI4GtndS3lOB3jJO1DXcDhd20fwj4LWDAQmBNEl/rQwQnpyRt+wGXAmXAm3G3/R3wtfDy14D7Olkvn+BHiPKBWHg5NkD1XQVkhJfv66y+3rwX+rG+e4C7e/H6d/t/vb/q69D+D8C3krX9Ev03VPf45wPb3X2nuzcBPwOWdVhmGfDj8PIvgCtsgH4V3N0Puvv68PJR4B2geCAeO4GWAY94YDWQZ2bjk1DHFcAOdz/bM7kTwt1XADUdbo5/j/0YuK6TVT8IPOvuNe5eCzwLXD0Q9bn77929Jby6GihJ9OP2Vhfbrzd683+9z7qrL8yNjwKPJfpxk2WoBn8xsC/uejnvDdZTy4Rv/iMEPxE5oMIuprnAmk6aF5nZ62b2WzM7b0ALAwd+b2brzOyuTtp7s40Hwk10/R8umdsPYKy7HwwvHwLGdrLMYNmOdxB8g+tMT++F/vSFsCvqoS66ygbD9lsCHHb3bV20J3P7nZWhGvxDgpmNAH4JfMnd6zs0ryfovpgNfBd4aoDLW+zuZcA1wH83s0sH+PF7FP5W84eBJzppTvb2excPvvMPyrHRZvYNoAV4tItFkvVe+DfgHGAOcJCgO2Uwupnu9/YH/f+ljoZq8O8HJsZdLwlv63QZM8sARgPVA1Jd8JiZBKH/qLs/2bHd3evd/Vh4+TdAppkVDlR97r4//LcCWE7wlTpeb7Zxf7sGWO/uhzs2JHv7hQ63d3+F/1Z0skxSt6OZ3Q5cC9wSfji9Ry/eC/3C3Q+7e6u7twE/6OJxk739MoAbgMe7WiZZ268vhmrwvwZMN7Mp4V7hTcCvOyzza6B9BMWfAs919cZPtLBP8IfAO+7+j10sM679mIOZzSd4LQbkg8nMcs1sZPtlgoOAb3ZY7NfAbeHonoXAkbhujYHS5Z5WMrdfnPj32CeAX3WyzO+Aq8wsFnZlXBXe1u/M7Grgq8CH3b2hi2V6817or/rijxld38Xj9ub/en+6Etjs7uWdNSZz+/VJso8un+0fwaiTrQRH/L8R3vZXBG9ygOEEXQTbgVeBqQNY22KCr/2bgI3h34eAzwKfDZf5AvAWwSiF1cD7B7C+qeHjvh7W0L794usz4F/D7fsGMG+AX99cgiAfHXdb0rYfwQfQQaCZoJ/5UwTHjP4AbAP+C8gPl50HPBi37h3h+3A78MkBrG87Qf94+3uwfZTbBOA33b0XBqi+n4TvrU0EYT6+Y33h9ff8Xx+I+sLbH25/z8UtO+DbL9F/mrJBRCRihmpXj4iInCUFv4hIxCj4RUQiRsEvIhIxCn4RkYhR8IuIRIyCX0QkYv4/MnVs2Gq8dpUAAAAASUVORK5CYII=\n",
      "text/plain": [
       "<Figure size 432x288 with 1 Axes>"
      ]
     },
     "metadata": {
      "needs_background": "light"
     },
     "output_type": "display_data"
    }
   ],
   "source": [
    "plt.plot(MSEs[:20])\n",
    "plt.title(\"the MSE changed with lambda.\")\n",
    "plt.show()"
   ]
  },
  {
   "cell_type": "code",
   "execution_count": 17,
   "metadata": {},
   "outputs": [],
   "source": [
    "X = numpy.array([features(elmt) for elmt in train_data])\n",
    "y = numpy.array([elmt['overall'] for elmt in train_data])\n",
    "test_data = data[1120000:1680000]\n",
    "y_test = numpy.array([elmt['overall'] for elmt in test_data])\n",
    "beta_u = numpy.random.random(number_of_reviewers)\n",
    "beta_i = numpy.random.random(number_of_itemID)\n",
    "alpha = numpy.mean(y)\n",
<<<<<<< HEAD
    "alpha,beta_i,beta_u = gradient_descent(X,beta_u,beta_i,alpha,6)\n",
    "predictions = [predict(elmt,beta_u,beta_i,alpha) for elmt in test_data]\n",
    "MSE = compute_MSE(predictions,y_test)"
=======
    "alpha,beta_i,beta_u = gradient_descent(X,beta_u,beta_i,alpha,lam_i=1,lam_u=1)\n",
    "predictions = [predict(elmt,beta_u,beta_i,alpha) for elmt in validation_data]\n",
    "MSE = compute_MSE(predictions,y_validation)\n",
    "print(MSE)"
>>>>>>> 42888701db173892627808e5321f6df4dbdb1d8b
   ]
  },
  {
   "cell_type": "code",
<<<<<<< HEAD
   "execution_count": 18,
=======
   "execution_count": 11,
>>>>>>> 42888701db173892627808e5321f6df4dbdb1d8b
   "metadata": {},
   "outputs": [
    {
     "data": {
<<<<<<< HEAD
      "text/plain": [
       "1.2499671248909372"
      ]
     },
     "execution_count": 18,
     "metadata": {},
     "output_type": "execute_result"
    }
   ],
   "source": [
    "MSE"
=======
      "application/vnd.jupyter.widget-view+json": {
       "model_id": "e5807cd842d14b88b47a34a503443960",
       "version_major": 2,
       "version_minor": 0
      },
      "text/plain": [
       "HBox(children=(IntProgress(value=0, max=10), HTML(value='')))"
      ]
     },
     "metadata": {},
     "output_type": "display_data"
    },
    {
     "name": "stdout",
     "output_type": "stream",
     "text": [
      "\n"
     ]
    }
   ],
   "source": [
    "# try different lam_i lam_u\n",
    "alpha,beta_i,beta_u, MSEs = gradient_descent(X,beta_u,beta_i,alpha,lam_i=10, lam_u=15, iteration=10, y_validation)"
   ]
  },
  {
   "cell_type": "code",
   "execution_count": 13,
   "metadata": {},
   "outputs": [
    {
     "data": {
      "image/png": "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\n",
      "text/plain": [
       "<Figure size 432x288 with 1 Axes>"
      ]
     },
     "metadata": {
      "needs_background": "light"
     },
     "output_type": "display_data"
    }
   ],
   "source": [
    "plt.plot(MSEs[1:10])\n",
    "plt.title(\"the MSE changed with iteration.\")\n",
    "plt.show()"
   ]
  },
  {
   "cell_type": "code",
   "execution_count": 14,
   "metadata": {},
   "outputs": [
    {
     "name": "stdout",
     "output_type": "stream",
     "text": [
      "the mininum mse 1.354428 appear in 2-th iteration\n"
     ]
    }
   ],
   "source": [
    "print(\"the mininum mse %f appear in %d-th iteration\" % (min(MSEs), MSEs.index(min(MSEs))))"
>>>>>>> 42888701db173892627808e5321f6df4dbdb1d8b
   ]
  },
  {
   "cell_type": "code",
   "execution_count": 32,
   "metadata": {},
   "outputs": [
    {
     "data": {
      "text/plain": [
       "1.3544262931438888"
      ]
     },
     "execution_count": 32,
     "metadata": {},
     "output_type": "execute_result"
    }
   ],
   "source": []
  },
  {
   "cell_type": "code",
   "execution_count": null,
   "metadata": {},
   "outputs": [],
   "source": []
  }
 ],
 "metadata": {
  "kernelspec": {
   "display_name": "Python 3",
   "language": "python",
   "name": "python3"
  },
  "language_info": {
   "codemirror_mode": {
    "name": "ipython",
    "version": 3
   },
   "file_extension": ".py",
   "mimetype": "text/x-python",
   "name": "python",
   "nbconvert_exporter": "python",
   "pygments_lexer": "ipython3",
   "version": "3.6.5"
  }
 },
 "nbformat": 4,
 "nbformat_minor": 2
}
